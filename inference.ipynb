{
 "cells": [
  {
   "cell_type": "code",
   "execution_count": 1,
   "metadata": {
    "collapsed": true,
    "pycharm": {
     "name": "#%%\n"
    }
   },
   "outputs": [],
   "source": [
    "import pandas as pd\n",
    "from sklearn.linear_model import LogisticRegression,LinearRegression,Ridge,Lasso\n",
    "import matplotlib.pyplot as plt\n",
    "from sklearn.preprocessing import MinMaxScaler\n",
    "import numpy as np\n",
    "import warnings\n",
    "from pandas.core.common import SettingWithCopyWarning\n",
    "warnings.simplefilter(action=\"ignore\", category=SettingWithCopyWarning)\n"
   ]
  },
  {
   "cell_type": "code",
   "execution_count": 2,
   "outputs": [],
   "source": [
    "data = pd.read_csv('processed_data.csv')\n",
    "data['release_date'] = pd.to_datetime(data['release_date'])\n",
    "data['month'] = data.apply(lambda row:row['release_date'].month,axis=1)\n",
    "data = pd.get_dummies(data,columns=['month'])\n",
    "data['profit'] = data['revenue']- data['budget']\n",
    "data['ROI'] = data['profit']/data['budget']\n",
    "data['release_date'] = pd.to_datetime(data['release_date'])\n",
    "data['revenue'] = np.log(data['revenue'])\n",
    "data['profit'] = np.log(data['profit'])\n",
    "data['budget'] = np.log(data['budget'])"
   ],
   "metadata": {
    "collapsed": false,
    "pycharm": {
     "name": "#%%\n"
    }
   }
  },
  {
   "cell_type": "code",
   "execution_count": 3,
   "outputs": [
    {
     "data": {
      "text/plain": "<Figure size 432x288 with 1 Axes>",
      "image/png": "[encoded data removed]"
     },
     "metadata": {
      "needs_background": "light"
     },
     "output_type": "display_data"
    }
   ],
   "source": [
    "data['review_score'].hist()\n",
    "plt.show()"
   ],
   "metadata": {
    "collapsed": false,
    "pycharm": {
     "name": "#%%\n"
    }
   }
  },
  {
   "cell_type": "code",
   "execution_count": 4,
   "outputs": [],
   "source": [
    "def transform_score(score, bins):\n",
    "    for index, bin_ in enumerate(bins):\n",
    "        if score >= bin_[0] and score <= bin_[1]:\n",
    "            return index\n",
    "\n",
    "\n",
    "def bin_review_score(data, k=2):\n",
    "    quantile = 1/k\n",
    "    bins = [(0,data['review_score'].quantile(quantile))]\n",
    "    for i in range(1,k-1):\n",
    "        bins.append((data['review_score'].quantile(quantile), data['review_score'].quantile(quantile+1/k)))\n",
    "        quantile += 1/k\n",
    "    bins.append((data['review_score'].quantile(quantile),10))\n",
    "    data['score'] = data['review_score'].apply(lambda score: transform_score(score, bins))\n",
    "    data = data.drop('review_score',axis = 1)\n",
    "    return data\n",
    "new_data = bin_review_score(data.copy(deep =True),5)"
   ],
   "metadata": {
    "collapsed": false,
    "pycharm": {
     "name": "#%%\n"
    }
   }
  },
  {
   "cell_type": "code",
   "execution_count": 5,
   "outputs": [
    {
     "data": {
      "text/plain": "    release_date    budget  is_top_production_company  know_actors  runtime  \\\n0     2013-10-18  20000000                       True            0    134.0   \n1     2010-11-05  18000000                       True            0     94.0   \n2     2014-04-18   5000000                      False            0     93.0   \n3     2013-08-02  61000000                       True            1    109.0   \n4     2014-06-05  50000000                       True            0    112.0   \n..           ...       ...                        ...          ...      ...   \n329   2015-10-15  12000000                      False            0    123.0   \n330   2010-09-24  20000000                      False            1    105.0   \n331   2011-12-16  12000000                       True            0     94.0   \n332   2011-04-08  49900000                       True            0    102.0   \n333   2012-12-19  40000000                      False            0    157.0   \n\n       revenue  know_directors  popularity             title  Action  ...  \\\n0    187000000           False   30.316249  12 years a slave       0  ...   \n1     35692920            True   11.176797         127 hours       0  ...   \n2        13809           False    9.067788           13 sins       0  ...   \n3    131940411           False   13.336512            2 guns       1  ...   \n4    188441614           False   10.901496    22 jump street       1  ...   \n..         ...             ...         ...               ...     ...  ...   \n329   14394097           False    3.216606          woodlawn       0  ...   \n330   32005248           False   12.820452         you again       0  ...   \n331   22939027            True    6.142913       young adult       0  ...   \n332   26121638           False    5.673750     your highness       0  ...   \n333  132820716            True    9.649303  zero dark thirty       0  ...   \n\n     month_6  month_7  month_8  month_9  month_10  month_11  month_12  \\\n0          0        0        0        0         1         0         0   \n1          0        0        0        0         0         1         0   \n2          0        0        0        0         0         0         0   \n3          0        0        1        0         0         0         0   \n4          1        0        0        0         0         0         0   \n..       ...      ...      ...      ...       ...       ...       ...   \n329        0        0        0        0         1         0         0   \n330        0        0        0        1         0         0         0   \n331        0        0        0        0         0         0         1   \n332        0        0        0        0         0         0         0   \n333        0        0        0        0         0         0         1   \n\n        profit       ROI  score  \n0    167000000  8.350000      4  \n1     17692920  0.982940      4  \n2     -4986191 -0.997238      1  \n3     70940411  1.162958      2  \n4    138441614  2.768832      3  \n..         ...       ...    ...  \n329    2394097  0.199508      2  \n330   12005248  0.600262      0  \n331   10939027  0.911586      3  \n332  -23778362 -0.476520      0  \n333   92820716  2.320518      4  \n\n[334 rows x 43 columns]",
      "text/html": "<div>\n<style scoped>\n    .dataframe tbody tr th:only-of-type {\n        vertical-align: middle;\n    }\n\n    .dataframe tbody tr th {\n        vertical-align: top;\n    }\n\n    .dataframe thead th {\n        text-align: right;\n    }\n</style>\n<table border=\"1\" class=\"dataframe\">\n  <thead>\n    <tr style=\"text-align: right;\">\n      <th></th>\n      <th>release_date</th>\n      <th>budget</th>\n      <th>is_top_production_company</th>\n      <th>know_actors</th>\n      <th>runtime</th>\n      <th>revenue</th>\n      <th>know_directors</th>\n      <th>popularity</th>\n      <th>title</th>\n      <th>Action</th>\n      <th>...</th>\n      <th>month_6</th>\n      <th>month_7</th>\n      <th>month_8</th>\n      <th>month_9</th>\n      <th>month_10</th>\n      <th>month_11</th>\n      <th>month_12</th>\n      <th>profit</th>\n      <th>ROI</th>\n      <th>score</th>\n    </tr>\n  </thead>\n  <tbody>\n    <tr>\n      <th>0</th>\n      <td>2013-10-18</td>\n      <td>20000000</td>\n      <td>True</td>\n      <td>0</td>\n      <td>134.0</td>\n      <td>187000000</td>\n      <td>False</td>\n      <td>30.316249</td>\n      <td>12 years a slave</td>\n      <td>0</td>\n      <td>...</td>\n      <td>0</td>\n      <td>0</td>\n      <td>0</td>\n      <td>0</td>\n      <td>1</td>\n      <td>0</td>\n      <td>0</td>\n      <td>167000000</td>\n      <td>8.350000</td>\n      <td>4</td>\n    </tr>\n    <tr>\n      <th>1</th>\n      <td>2010-11-05</td>\n      <td>18000000</td>\n      <td>True</td>\n      <td>0</td>\n      <td>94.0</td>\n      <td>35692920</td>\n      <td>True</td>\n      <td>11.176797</td>\n      <td>127 hours</td>\n      <td>0</td>\n      <td>...</td>\n      <td>0</td>\n      <td>0</td>\n      <td>0</td>\n      <td>0</td>\n      <td>0</td>\n      <td>1</td>\n      <td>0</td>\n      <td>17692920</td>\n      <td>0.982940</td>\n      <td>4</td>\n    </tr>\n    <tr>\n      <th>2</th>\n      <td>2014-04-18</td>\n      <td>5000000</td>\n      <td>False</td>\n      <td>0</td>\n      <td>93.0</td>\n      <td>13809</td>\n      <td>False</td>\n      <td>9.067788</td>\n      <td>13 sins</td>\n      <td>0</td>\n      <td>...</td>\n      <td>0</td>\n      <td>0</td>\n      <td>0</td>\n      <td>0</td>\n      <td>0</td>\n      <td>0</td>\n      <td>0</td>\n      <td>-4986191</td>\n      <td>-0.997238</td>\n      <td>1</td>\n    </tr>\n    <tr>\n      <th>3</th>\n      <td>2013-08-02</td>\n      <td>61000000</td>\n      <td>True</td>\n      <td>1</td>\n      <td>109.0</td>\n      <td>131940411</td>\n      <td>False</td>\n      <td>13.336512</td>\n      <td>2 guns</td>\n      <td>1</td>\n      <td>...</td>\n      <td>0</td>\n      <td>0</td>\n      <td>1</td>\n      <td>0</td>\n      <td>0</td>\n      <td>0</td>\n      <td>0</td>\n      <td>70940411</td>\n      <td>1.162958</td>\n      <td>2</td>\n    </tr>\n    <tr>\n      <th>4</th>\n      <td>2014-06-05</td>\n      <td>50000000</td>\n      <td>True</td>\n      <td>0</td>\n      <td>112.0</td>\n      <td>188441614</td>\n      <td>False</td>\n      <td>10.901496</td>\n      <td>22 jump street</td>\n      <td>1</td>\n      <td>...</td>\n      <td>1</td>\n      <td>0</td>\n      <td>0</td>\n      <td>0</td>\n      <td>0</td>\n      <td>0</td>\n      <td>0</td>\n      <td>138441614</td>\n      <td>2.768832</td>\n      <td>3</td>\n    </tr>\n    <tr>\n      <th>...</th>\n      <td>...</td>\n      <td>...</td>\n      <td>...</td>\n      <td>...</td>\n      <td>...</td>\n      <td>...</td>\n      <td>...</td>\n      <td>...</td>\n      <td>...</td>\n      <td>...</td>\n      <td>...</td>\n      <td>...</td>\n      <td>...</td>\n      <td>...</td>\n      <td>...</td>\n      <td>...</td>\n      <td>...</td>\n      <td>...</td>\n      <td>...</td>\n      <td>...</td>\n      <td>...</td>\n    </tr>\n    <tr>\n      <th>329</th>\n      <td>2015-10-15</td>\n      <td>12000000</td>\n      <td>False</td>\n      <td>0</td>\n      <td>123.0</td>\n      <td>14394097</td>\n      <td>False</td>\n      <td>3.216606</td>\n      <td>woodlawn</td>\n      <td>0</td>\n      <td>...</td>\n      <td>0</td>\n      <td>0</td>\n      <td>0</td>\n      <td>0</td>\n      <td>1</td>\n      <td>0</td>\n      <td>0</td>\n      <td>2394097</td>\n      <td>0.199508</td>\n      <td>2</td>\n    </tr>\n    <tr>\n      <th>330</th>\n      <td>2010-09-24</td>\n      <td>20000000</td>\n      <td>False</td>\n      <td>1</td>\n      <td>105.0</td>\n      <td>32005248</td>\n      <td>False</td>\n      <td>12.820452</td>\n      <td>you again</td>\n      <td>0</td>\n      <td>...</td>\n      <td>0</td>\n      <td>0</td>\n      <td>0</td>\n      <td>1</td>\n      <td>0</td>\n      <td>0</td>\n      <td>0</td>\n      <td>12005248</td>\n      <td>0.600262</td>\n      <td>0</td>\n    </tr>\n    <tr>\n      <th>331</th>\n      <td>2011-12-16</td>\n      <td>12000000</td>\n      <td>True</td>\n      <td>0</td>\n      <td>94.0</td>\n      <td>22939027</td>\n      <td>True</td>\n      <td>6.142913</td>\n      <td>young adult</td>\n      <td>0</td>\n      <td>...</td>\n      <td>0</td>\n      <td>0</td>\n      <td>0</td>\n      <td>0</td>\n      <td>0</td>\n      <td>0</td>\n      <td>1</td>\n      <td>10939027</td>\n      <td>0.911586</td>\n      <td>3</td>\n    </tr>\n    <tr>\n      <th>332</th>\n      <td>2011-04-08</td>\n      <td>49900000</td>\n      <td>True</td>\n      <td>0</td>\n      <td>102.0</td>\n      <td>26121638</td>\n      <td>False</td>\n      <td>5.673750</td>\n      <td>your highness</td>\n      <td>0</td>\n      <td>...</td>\n      <td>0</td>\n      <td>0</td>\n      <td>0</td>\n      <td>0</td>\n      <td>0</td>\n      <td>0</td>\n      <td>0</td>\n      <td>-23778362</td>\n      <td>-0.476520</td>\n      <td>0</td>\n    </tr>\n    <tr>\n      <th>333</th>\n      <td>2012-12-19</td>\n      <td>40000000</td>\n      <td>False</td>\n      <td>0</td>\n      <td>157.0</td>\n      <td>132820716</td>\n      <td>True</td>\n      <td>9.649303</td>\n      <td>zero dark thirty</td>\n      <td>0</td>\n      <td>...</td>\n      <td>0</td>\n      <td>0</td>\n      <td>0</td>\n      <td>0</td>\n      <td>0</td>\n      <td>0</td>\n      <td>1</td>\n      <td>92820716</td>\n      <td>2.320518</td>\n      <td>4</td>\n    </tr>\n  </tbody>\n</table>\n<p>334 rows × 43 columns</p>\n</div>"
     },
     "execution_count": 5,
     "metadata": {},
     "output_type": "execute_result"
    }
   ],
   "source": [
    "new_data"
   ],
   "metadata": {
    "collapsed": false,
    "pycharm": {
     "name": "#%%\n"
    }
   }
  },
  {
   "cell_type": "code",
   "execution_count": 6,
   "outputs": [],
   "source": [
    "def logistic_regression_model(data):\n",
    "    data_frames = {}\n",
    "    labels = sorted(data['score'].unique())\n",
    "    for label in labels[:-1]:\n",
    "        curr_data = data[(data['score']==label) | (data['score'] == label + 1)]\n",
    "        curr_data = curr_data.copy(deep = True)\n",
    "        features_list = curr_data.drop(['score','release_date','popularity','title','profit','ROI','revenue'],axis =1).columns\n",
    "        scaler = MinMaxScaler()\n",
    "        curr_data[['budget','runtime']] = scaler.fit_transform(curr_data[['budget','runtime',]])\n",
    "        model = LogisticRegression('none',max_iter = 1000)\n",
    "        model.fit(curr_data[features_list],curr_data['score'])\n",
    "        propensity_scores = model.predict_proba(curr_data[features_list])\n",
    "        curr_data[f'propensity_class_{label}'] = propensity_scores[:,0]\n",
    "        curr_data[f'propensity_class_{label+1}'] = propensity_scores[:,1]\n",
    "        data_frames[(label,label+1)] = curr_data\n",
    "    return data_frames\n",
    "original_data_frames = logistic_regression_model(new_data.copy(deep = True))"
   ],
   "metadata": {
    "collapsed": false,
    "pycharm": {
     "name": "#%%\n"
    }
   }
  },
  {
   "cell_type": "code",
   "execution_count": 7,
   "outputs": [],
   "source": [
    "def plot_classes_propensity(data):\n",
    "    for label in data['score'].unique():\n",
    "        label_movies_propensity = data[data['score'] == label][f'propensity_class_{label}']\n",
    "        plt.hist(label_movies_propensity,bins=20,label=label,alpha=0.5)\n",
    "    plt.legend()\n",
    "    plt.xlabel('propensity score')\n",
    "    plt.ylabel('number of units')\n",
    "    plt.xlim(0,1)\n",
    "    plt.show()"
   ],
   "metadata": {
    "collapsed": false,
    "pycharm": {
     "name": "#%%\n"
    }
   }
  },
  {
   "cell_type": "code",
   "execution_count": 8,
   "outputs": [
    {
     "data": {
      "text/plain": "<Figure size 432x288 with 1 Axes>",
      "image/png": "[encoded data removed]"
     },
     "metadata": {
      "needs_background": "light"
     },
     "output_type": "display_data"
    },
    {
     "data": {
      "text/plain": "<Figure size 432x288 with 1 Axes>",
      "image/png": "[encoded data removed]"
     },
     "metadata": {
      "needs_background": "light"
     },
     "output_type": "display_data"
    },
    {
     "data": {
      "text/plain": "<Figure size 432x288 with 1 Axes>",
      "image/png": "[encoded data removed]"
     },
     "metadata": {
      "needs_background": "light"
     },
     "output_type": "display_data"
    },
    {
     "data": {
      "text/plain": "<Figure size 432x288 with 1 Axes>",
      "image/png": "[encoded data removed]"
     },
     "metadata": {
      "needs_background": "light"
     },
     "output_type": "display_data"
    }
   ],
   "source": [
    "for key in original_data_frames.keys():\n",
    "    plot_classes_propensity(original_data_frames[key])"
   ],
   "metadata": {
    "collapsed": false,
    "pycharm": {
     "name": "#%%\n"
    }
   }
  },
  {
   "cell_type": "code",
   "execution_count": 9,
   "outputs": [],
   "source": [
    "def trim_common_support(data, label_name):\n",
    "    \"\"\" Removes observations that fall outside the common support of the propensity score\n",
    "        distribution from the data.\n",
    "\n",
    "    Arguments:\n",
    "    ----------\n",
    "        data:        DataFrame with the propensity scores for each observation.\n",
    "        label_name:  Column name that contains the labels (treatment/control) for each observation.\n",
    "\n",
    "    \"\"\"\n",
    "    propensity_bounds_per_class = {}\n",
    "    labels = sorted(data[label_name].unique())\n",
    "    for label in labels:\n",
    "        label_propensity = data[data[label_name]==label][f'propensity_class_{label}']\n",
    "        propensity_bounds_per_class[label] = (min(label_propensity),max(label_propensity))\n",
    "    for label in labels[:-1]:\n",
    "        bound_one = propensity_bounds_per_class[label]\n",
    "        bound_two = propensity_bounds_per_class[label+1]\n",
    "        for bound in [bound_one,bound_two]:\n",
    "            data = data[(data[f'propensity_class_{label}']>=bound[0]) & (data[f'propensity_class_{label}']<=bound[1])]\n",
    "            data = data[(data[f'propensity_class_{label+1}']>=bound[0]) & (data[f'propensity_class_{label+1}']<=bound[1])]\n",
    "    return data\n",
    "trimmed_data_frames= {}\n",
    "for key in original_data_frames.keys():\n",
    "    trimmed_data_frames[key] = trim_common_support(original_data_frames[key],'score')"
   ],
   "metadata": {
    "collapsed": false,
    "pycharm": {
     "name": "#%%\n"
    }
   }
  },
  {
   "cell_type": "code",
   "execution_count": 10,
   "outputs": [
    {
     "data": {
      "text/plain": "<Figure size 432x288 with 1 Axes>",
      "image/png": "[encoded data removed]"
     },
     "metadata": {
      "needs_background": "light"
     },
     "output_type": "display_data"
    },
    {
     "data": {
      "text/plain": "<Figure size 432x288 with 1 Axes>",
      "image/png": "[encoded data removed]"
     },
     "metadata": {
      "needs_background": "light"
     },
     "output_type": "display_data"
    },
    {
     "data": {
      "text/plain": "<Figure size 432x288 with 1 Axes>",
      "image/png": "[encoded data removed]"
     },
     "metadata": {
      "needs_background": "light"
     },
     "output_type": "display_data"
    },
    {
     "data": {
      "text/plain": "<Figure size 432x288 with 1 Axes>",
      "image/png": "[encoded data removed]"
     },
     "metadata": {
      "needs_background": "light"
     },
     "output_type": "display_data"
    }
   ],
   "source": [
    "for key in trimmed_data_frames.keys():\n",
    "    plot_classes_propensity(trimmed_data_frames[key])"
   ],
   "metadata": {
    "collapsed": false,
    "pycharm": {
     "name": "#%%\n"
    }
   }
  },
  {
   "cell_type": "markdown",
   "source": [
    "# Models"
   ],
   "metadata": {
    "collapsed": false,
    "pycharm": {
     "name": "#%% md\n"
    }
   }
  },
  {
   "cell_type": "code",
   "execution_count": 12,
   "outputs": [],
   "source": [
    "def add_interactions(data,treatment):\n",
    "    for column in data.columns:\n",
    "        if column in [treatment]:\n",
    "            continue\n",
    "        data[column + '_interaction'] = data[column].copy(deep = True) * data[treatment].copy(deep = True)\n",
    "    return data\n",
    "\n",
    "def generate_S_learner(data,features,treatment,outcome):\n",
    "    labels = data.pop(outcome)\n",
    "    data = add_interactions(data[list(features)+[treatment]],treatment)\n",
    "    model = Ridge(max_iter=100000)\n",
    "    model.fit(data,labels)\n",
    "    return model\n",
    "\n",
    "def generate_T_learners(data,features,treatment,outcome):\n",
    "    models = {}\n",
    "    labels = list(data[treatment].unique())\n",
    "    for label in labels:\n",
    "        rel_data = data[data[treatment] == label]\n",
    "        model = Ridge(max_iter=1000000)\n",
    "        model.fit(rel_data[features],rel_data[outcome])\n",
    "        print(model.score(rel_data[features],rel_data[outcome]))\n",
    "        models[label] = model\n",
    "    return models\n",
    "\n",
    "def calc_all_ATE_T_learner(data,features,treatment,models):\n",
    "    ATES ={}\n",
    "    labels = list(data[treatment].unique())\n",
    "    labels = sorted(labels,reverse=True)\n",
    "    for index, label in enumerate(labels):\n",
    "        for label2 in labels[index+1:]:\n",
    "            model_1 = models[label]\n",
    "            model_2 = models[label2]\n",
    "            pred_1 = model_1.predict(data[features])\n",
    "            pred_2 = model_2.predict(data[features])\n",
    "            ATE = np.mean(pred_1-pred_2)\n",
    "            ATES[(label,label2)] = ATE\n",
    "    return ATES\n",
    "\n",
    "def calc_all_ATE_S_learner(data,features,treatment,model):\n",
    "    ATES ={}\n",
    "    labels = list(data[treatment].unique())\n",
    "    labels = sorted(labels,reverse=True)\n",
    "    for index, label in enumerate(labels):\n",
    "        for label2 in labels[index+1:]:\n",
    "            data_t_label_1 = data.copy(deep =True)\n",
    "            data_t_label_1[treatment] = label\n",
    "            data_t_label_2 = data.copy(deep = True)\n",
    "            data_t_label_2[treatment] = label2\n",
    "            data_t_label_1 = add_interactions(data_t_label_1[features+[treatment]],treatment)\n",
    "            data_t_label_2 = add_interactions(data_t_label_2[features+[treatment]],treatment)\n",
    "            pred_1 = model.predict(data_t_label_1)\n",
    "            pred_2 = model.predict(data_t_label_2)\n",
    "            ATE = np.mean(pred_1-pred_2)\n",
    "            ATES[(label,label2)] = ATE\n",
    "    return ATES\n",
    "\n",
    "def calculate_ATE_matching(data):\n",
    "    y_t = data.copy()[['T', 'Y']]\n",
    "    y_0 = np.array(y_t[y_t['T'] == 0].drop(['T'], axis=1).reset_index(drop=True))\n",
    "    y_1 = np.array(y_t[y_t['T'] == 1].drop(['T'], axis=1).reset_index(drop=True))\n",
    "    categorical_data, continuous_data = preprocess_matching(data)\n",
    "\n",
    "    categorical_data_0 = categorical_data[categorical_data['T'] == 0].drop(['T'], axis=1)\n",
    "    categorical_data_1 = categorical_data[categorical_data['T'] == 1].drop(['T'], axis=1)\n",
    "    continuous_data_0 = continuous_data[continuous_data['T'] == 0].drop(['T'], axis=1)\n",
    "    continuous_data_1 = continuous_data[continuous_data['T'] == 1].drop(['T'], axis=1)\n",
    "    cont_dist = continuous_distance(continuous_data_0, continuous_data_1)\n",
    "    cat_dist = categorical_distance(categorical_data_0, categorical_data_1)\n",
    "    dist = create_dist(cat_dist, cont_dist)\n",
    "    pairs = [(i, neighbor) for i, neighbor in enumerate(np.argmin(dist, axis=0))]\n",
    "    return calc_ATT_from_ITE(pairs, y_0, y_1)"
   ],
   "metadata": {
    "collapsed": false,
    "pycharm": {
     "name": "#%%\n"
    }
   }
  },
  {
   "cell_type": "markdown",
   "source": [
    "## T learner training"
   ],
   "metadata": {
    "collapsed": false,
    "pycharm": {
     "name": "#%% md\n"
    }
   }
  },
  {
   "cell_type": "code",
   "execution_count": 15,
   "outputs": [
    {
     "name": "stdout",
     "output_type": "stream",
     "text": [
      "0.4036822577191016\n",
      "0.4714468079928926\n",
      "{(1, 0): -3.4300629666253593}\n",
      "0.40204841995323426\n",
      "0.5558520950802147\n",
      "{(2, 1): -0.3137989181363952}\n",
      "0.6555952708907562\n",
      "0.7907063461137983\n",
      "{(3, 2): 1.4479337080426145}\n",
      "0.7018910108745207\n",
      "0.7521434786687408\n",
      "{(4, 3): -0.30155686671611864}\n"
     ]
    }
   ],
   "source": [
    "for key in trimmed_data_frames.keys():\n",
    "    trimmed_data = trimmed_data_frames[key]\n",
    "    train_data_t = trimmed_data.copy(deep =True)\n",
    "    propensity_cols= [col for col in train_data_t.columns if 'propensity' in col]\n",
    "    features_list = list(train_data_t.drop(['score','release_date','popularity','title','profit','ROI','revenue']+propensity_cols,axis =1).columns)\n",
    "    fitted_models = generate_T_learners(train_data_t,features_list,'score','ROI')\n",
    "    ATES = calc_all_ATE_T_learner(train_data_t,features_list,'score',fitted_models)\n",
    "    print(ATES)"
   ],
   "metadata": {
    "collapsed": false,
    "pycharm": {
     "name": "#%%\n"
    }
   }
  },
  {
   "cell_type": "markdown",
   "source": [
    "## S learner training"
   ],
   "metadata": {
    "collapsed": false,
    "pycharm": {
     "name": "#%% md\n"
    }
   }
  },
  {
   "cell_type": "code",
   "execution_count": 17,
   "outputs": [
    {
     "name": "stderr",
     "output_type": "stream",
     "text": [
      "C:\\Users\\yoni\\miniconda3\\envs\\general\\lib\\site-packages\\sklearn\\linear_model\\_ridge.py:212: LinAlgWarning: Ill-conditioned matrix (rcond=2.95642e-19): result may not be accurate.\n",
      "  return linalg.solve(A, Xy, sym_pos=True, overwrite_a=True).T\n"
     ]
    },
    {
     "name": "stdout",
     "output_type": "stream",
     "text": [
      "{(2, 1): 26326458.855303507, (2, 0): 52652917.710607, (1, 0): 26326458.855303492}\n"
     ]
    }
   ],
   "source": [
    "train_data_s = trimmed_data.copy(deep = True)\n",
    "propensity_cols= [col for col in train_data_t.columns if 'propensity' in col]\n",
    "features_list = list(train_data_t.drop(['score','release_date','popularity','title','profit','ROI','revenue']+propensity_cols,axis =1).columns)\n",
    "fitted_model = generate_S_learner(train_data_s,features_list,'score','profit')\n",
    "ATES = calc_all_ATE_S_learner(train_data_s,features_list,'score',fitted_model)\n",
    "print(ATES)"
   ],
   "metadata": {
    "collapsed": false,
    "pycharm": {
     "name": "#%%\n"
    }
   }
  },
  {
   "cell_type": "markdown",
   "source": [
    "## IPW weighting"
   ],
   "metadata": {
    "collapsed": false,
    "pycharm": {
     "name": "#%% md\n"
    }
   }
  },
  {
   "cell_type": "markdown",
   "source": [
    "## Matching"
   ],
   "metadata": {
    "collapsed": false,
    "pycharm": {
     "name": "#%% md\n"
    }
   }
  }
 ],
 "metadata": {
  "kernelspec": {
   "display_name": "Python 3",
   "language": "python",
   "name": "python3"
  },
  "language_info": {
   "codemirror_mode": {
    "name": "ipython",
    "version": 2
   },
   "file_extension": ".py",
   "mimetype": "text/x-python",
   "name": "python",
   "nbconvert_exporter": "python",
   "pygments_lexer": "ipython2",
   "version": "2.7.6"
  }
 },
 "nbformat": 4,
 "nbformat_minor": 0
}