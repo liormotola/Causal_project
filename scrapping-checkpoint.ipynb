{
 "cells": [
  {
   "cell_type": "markdown",
   "id": "4e3f73d0",
   "metadata": {},
   "source": [
    "# Web Scrapping causal #"
   ]
  },
  {
   "cell_type": "code",
   "execution_count": 1,
   "id": "e3847077",
   "metadata": {},
   "outputs": [],
   "source": [
    "import selenium\n",
    "from requests import get\n",
    "from bs4 import BeautifulSoup \n",
    "from selenium import webdriver"
   ]
  },
  {
   "cell_type": "code",
   "execution_count": 48,
   "id": "70fd92e3",
   "metadata": {},
   "outputs": [],
   "source": [
    "url_dict = {2010:\"https://www.the-numbers.com/box-office-star-records/worldwide/yearly-acting/highest-grossing-2009-stars\",\n",
    "            2011:\"https://www.the-numbers.com/box-office-star-records/worldwide/yearly-acting/highest-grossing-2010-stars\",\n",
    "            2012:\"https://www.the-numbers.com/box-office-star-records/worldwide/yearly-acting/highest-grossing-2011-stars\",\n",
    "            2013:\"https://www.the-numbers.com/box-office-star-records/worldwide/yearly-acting/highest-grossing-2012-stars\",\n",
    "           2014:\"https://www.the-numbers.com/box-office-star-records/worldwide/yearly-acting/highest-grossing-2013-stars\",\n",
    "           2015:\"https://www.the-numbers.com/box-office-star-records/worldwide/yearly-acting/highest-grossing-2014-stars\",\n",
    "           2016:\"https://www.the-numbers.com/box-office-star-records/worldwide/yearly-acting/highest-grossing-2015-stars\"}\n",
    "actors_data = {}\n",
    "for year,url in url_dict.items():\n",
    "    actors_data[year] = set()    \n",
    "    headers = {'User-Agent': 'Mozilla/5.0 (Windows NT 10.0; WOW64) AppleWebKit/537.36 (KHTML, like Gecko) Chrome/103.0.0.0 Safari/537.36'}\n",
    "    response = get(url, headers=headers)\n",
    "    html_soup = BeautifulSoup(response.text, 'html.parser')\n",
    "    container = html_soup.find(\"tbody\").find_all(\"a\")\n",
    "    for actor in container:\n",
    "        actors_data[year].add(actor.find(text=True))\n",
    "        \n"
   ]
  }
 ],
 "metadata": {
  "kernelspec": {
   "display_name": "Python 3 (ipykernel)",
   "language": "python",
   "name": "python3"
  },
  "language_info": {
   "codemirror_mode": {
    "name": "ipython",
    "version": 3
   },
   "file_extension": ".py",
   "mimetype": "text/x-python",
   "name": "python",
   "nbconvert_exporter": "python",
   "pygments_lexer": "ipython3",
   "version": "3.8.0"
  }
 },
 "nbformat": 4,
 "nbformat_minor": 5
}
